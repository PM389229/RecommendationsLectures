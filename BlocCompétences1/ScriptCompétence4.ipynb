{
 "cells": [
  {
   "cell_type": "code",
   "execution_count": null,
   "metadata": {},
   "outputs": [],
   "source": [
    "# C4. Créer une base de données dans le respect du RGPD en élaborant les modèles conceptuels et physiques des données à partir des données préparées\n",
    "# et en programmant leur import afin de stocker le jeu de données du projet."
   ]
  },
  {
   "cell_type": "code",
   "execution_count": null,
   "metadata": {},
   "outputs": [],
   "source": [
    "#1. Récapitulatif des points à valider :\n",
    "2# Modèles conceptuels et physiques bien conçus (Merise).\n",
    "3# Modèle physique fonctionnel sans erreurs lors de l'implémentation.\n",
    "4# Choix de la base de données justifié.\n",
    "5# Respect du RGPD lors de la manipulation des données.\n",
    "6# Procédures d'installation et de configuration documentées.\n",
    "7# Script d'import fonctionnel avec gestion des relations et des conflits.\n",
    "8# Documentation versionnée du script dans un dépôt Git"
   ]
  },
  {
   "cell_type": "code",
   "execution_count": null,
   "metadata": {},
   "outputs": [],
   "source": [
    "# ### Langages et dépendances ( a inclure dans la documentation)\n",
    "# - **Langage** : Python 3.x\n",
    "# - **Dépendances** :\n",
    "#  - `psycopg2` : Bibliothèque pour se connecter à PostgreSQL.\n",
    "#  - `pandas` : Bibliothèque pour la manipulation des fichiers CSV et des DataFrames.\n",
    "\n",
    "### Installation des dépendances\n",
    "# Pour installer les dépendances, exécuter la commande suivante :\n",
    "# ```bash\n",
    "# pip install psycopg2 pandas "
   ]
  },
  {
   "cell_type": "code",
   "execution_count": null,
   "metadata": {},
   "outputs": [],
   "source": [
    "### Registre des traitements de données personnelles\n",
    "# - **Données traitées** : noms des auteurs (colonne `authors` dans la table `Auteur`).\n",
    "# - **Finalité** : stockage des noms des auteurs des livres pour le projet de recommandations de lectures.\n",
    "# - **Localisation** : les données sont stockées dans la base de données PostgreSQL.\n",
    "# - **Accès** : seuls les administrateurs de la base de données ont accès aux données personnelles via des accès sécurisés.\n",
    "# - **Sécurisation** : les accès sont protégés par des mots de passe forts et les données sont stockées dans un environnement sécurisé.\n",
    "# - **Durée de conservation** : les données personnelles des auteurs seront conservées tant que le service est opérationnel, sauf demande de suppression spécifique d'un auteur.\n",
    "# - **Procédures de suppression** : possibilité de suppression manuelle des données personnelles à la demande, ou suppression automatique après X années d'inactivité."
   ]
  },
  {
   "cell_type": "code",
   "execution_count": null,
   "metadata": {},
   "outputs": [],
   "source": [
    "### Procédures de tri des données personnelles\n",
    "# - **Objectif** : Assurer la conformité avec le RGPD en identifiant et supprimant les données personnelles inutiles.\n",
    "# - **Données concernées** : noms des auteurs (colonne `authors`).\n",
    "# - **Fréquence** : les données sont revues tous les 6 mois pour vérifier si elles sont encore nécessaires.\n",
    "# - **Processus de suppression** :\n",
    "#   - Si un auteur fait une demande de suppression, ses données seront supprimées manuellement par l'administrateur dans les 30 jours suivant la demande.\n",
    "#   - Si les données sont jugées non nécessaires (par exemple, pour les auteurs décédés ou pour des livres retirés), elles seront anonymisées ou supprimées.\n",
    "# - **Anonymisation** : remplacer les noms d'auteurs par des identifiants anonymes si cela est nécessaire.\n"
   ]
  },
  {
   "cell_type": "code",
   "execution_count": null,
   "metadata": {},
   "outputs": [],
   "source": [
    "# On a créé 5 tables au total dans PGadmin pour les différentes liaisons entre les données etc , tout est dans 'suivi du projet final' word ,il reste\n",
    "# plus qu'à envoyer dans pgadmin cette version finale"
   ]
  },
  {
   "cell_type": "code",
   "execution_count": 1,
   "metadata": {},
   "outputs": [
    {
     "name": "stdout",
     "output_type": "stream",
     "text": [
      "Requirement already satisfied: psycopg2 in c:\\users\\user\\downloads\\coursalternance\\chefoeuvre\\recommendationslectures\\env\\lib\\site-packages (2.9.9)\n"
     ]
    }
   ],
   "source": [
    "%pip install psycopg2"
   ]
  },
  {
   "cell_type": "code",
   "execution_count": null,
   "metadata": {},
   "outputs": [],
   "source": [
    "# Fichier nettoyé final path : C:\\Users\\User\\Downloads\\CoursAlternance\\Chefoeuvre\\RecommendationsLectures\\final_dataset_clean.csv"
   ]
  },
  {
   "cell_type": "code",
   "execution_count": 10,
   "metadata": {},
   "outputs": [],
   "source": [
    "import psycopg2\n",
    "import pandas as pd\n",
    "\n",
    "# Connexion à PostgreSQL\n",
    "conn = psycopg2.connect(\n",
    "    host=\"localhost\",\n",
    "    database=\"RecommendationsLectures\",\n",
    "    user=\"postgres\",\n",
    "    password=\"Lrk389229!\"\n",
    ")\n",
    "cur = conn.cursor()\n",
    "\n",
    "# Charger le dataset final nettoyé\n",
    "df_books = pd.read_csv(r\"C:\\Users\\User\\Downloads\\CoursAlternance\\Chefoeuvre\\RecommendationsLectures\\final_dataset_clean.csv\")\n",
    "\n",
    "# Importer les livres\n",
    "for index, row in df_books.iterrows():\n",
    "    cur.execute(\"\"\"\n",
    "        INSERT INTO Livre (title, description, published_year, average_rating)\n",
    "        VALUES (%s, %s, %s, %s)\n",
    "        ON CONFLICT (title) DO NOTHING;\n",
    "    \"\"\", (row['title'], row['description'], row['published_year'], row['average_rating']))\n",
    "\n",
    "# Importer les auteurs\n",
    "for index, row in df_books.iterrows():\n",
    "    authors = row['authors'].split(';')  # Séparer les auteurs si plusieurs\n",
    "    for author in authors:\n",
    "        cur.execute(\"\"\"\n",
    "            INSERT INTO Auteur (author_name)\n",
    "            VALUES (%s)\n",
    "            ON CONFLICT (author_name) DO NOTHING;\n",
    "        \"\"\", (author,))\n",
    "\n",
    "# Importer les catégories\n",
    "for index, row in df_books.iterrows():\n",
    "    categories = row['categories'].split(';')  # Séparer les catégories si plusieurs\n",
    "    for category in categories:\n",
    "        cur.execute(\"\"\"\n",
    "            INSERT INTO Categorie (category_name)\n",
    "            VALUES (%s)\n",
    "            ON CONFLICT (category_name) DO NOTHING;\n",
    "        \"\"\", (category,))\n",
    "\n",
    "# Importer les associations Livre_Auteur\n",
    "for index, row in df_books.iterrows():\n",
    "    authors = row['authors'].split(';')\n",
    "    for author in authors:\n",
    "        cur.execute(\"\"\"\n",
    "            INSERT INTO Livre_Auteur (id_livre, id_auteur)\n",
    "            SELECT l.id_livre, a.id_auteur\n",
    "            FROM Livre l, Auteur a\n",
    "            WHERE l.title = %s AND a.author_name = %s\n",
    "            ON CONFLICT (id_livre, id_auteur) DO NOTHING;\n",
    "        \"\"\", (row['title'], author))\n",
    "\n",
    "# Importer les associations Livre_Categorie\n",
    "for index, row in df_books.iterrows():\n",
    "    categories = row['categories'].split(';')\n",
    "    for category in categories:\n",
    "        cur.execute(\"\"\"\n",
    "            INSERT INTO Livre_Categorie (id_livre, id_categorie)\n",
    "            SELECT l.id_livre, c.id_categorie\n",
    "            FROM Livre l, Categorie c\n",
    "            WHERE l.title = %s AND c.category_name = %s\n",
    "            ON CONFLICT (id_livre, id_categorie) DO NOTHING;\n",
    "        \"\"\", (row['title'], category))\n",
    "\n",
    "# Commit des transactions et fermer la connexion\n",
    "conn.commit()\n",
    "cur.close()\n",
    "conn.close()\n"
   ]
  }
 ],
 "metadata": {
  "kernelspec": {
   "display_name": "env",
   "language": "python",
   "name": "python3"
  },
  "language_info": {
   "codemirror_mode": {
    "name": "ipython",
    "version": 3
   },
   "file_extension": ".py",
   "mimetype": "text/x-python",
   "name": "python",
   "nbconvert_exporter": "python",
   "pygments_lexer": "ipython3",
   "version": "3.12.4"
  }
 },
 "nbformat": 4,
 "nbformat_minor": 2
}
