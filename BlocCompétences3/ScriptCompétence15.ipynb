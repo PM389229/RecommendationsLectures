{
 "cells": [
  {
   "cell_type": "code",
   "execution_count": null,
   "metadata": {},
   "outputs": [],
   "source": [
    "# C15. Concevoir le cadre technique d’une application intégrant un service d’intelligence artificielle, à partir de l'analyse du besoin, en spécifiant l’architecture\n",
    "# technique et applicative et en préconisant les outils et méthodes de développement, pour permettre le développement du projet.\n"
   ]
  }
 ],
 "metadata": {
  "kernelspec": {
   "display_name": "env",
   "language": "python",
   "name": "python3"
  },
  "language_info": {
   "name": "python",
   "version": "3.12.4"
  }
 },
 "nbformat": 4,
 "nbformat_minor": 2
}
