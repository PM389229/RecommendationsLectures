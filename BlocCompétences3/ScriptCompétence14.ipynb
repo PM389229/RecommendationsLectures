{
 "cells": [
  {
   "cell_type": "code",
   "execution_count": null,
   "metadata": {},
   "outputs": [],
   "source": [
    "# C14. Analyser le besoin d’application d’un commanditaire intégrant un service d'intelligence\n",
    "# artificielle, en rédigeant les spécification fonctionnelles et en le modélisant, dans le respect des\n",
    "# standards d’utilisabilité et d’accessibilité, afin d’établir avec précision les objectifs de développement\n",
    "# correspondant au besoin et à la faisabilité technique."
   ]
  },
  {
   "cell_type": "code",
   "execution_count": null,
   "metadata": {},
   "outputs": [],
   "source": [
    "\n",
    "\n",
    "# L’objectif est de formaliser les besoins fonctionnels et techniques de l’application dans un document de spécifications\n",
    "# et de préparer la base de son implémentation. Voici les étapes détaillées :\n",
    "\n",
    "# Étape 1 : Analyse du besoin client\n",
    "\n",
    "#     Identification des objectifs de l’application :\n",
    "#         Clarifiez les besoins spécifiques : par exemple, pour une application de recommandations de lectures, identifiez si l’objectif est de recommander des livres en fonction des préférences utilisateur, de proposer des lectures similaires, etc.\n",
    "#         Définissez les objectifs généraux de l’application en termes de fonctionnalités principales (ex. : suggestions personnalisées, catégorisation de livres par genre).\n",
    "\n",
    "#     Recueil des exigences fonctionnelles :\n",
    "#         Contextualisez les scénarios d'utilisation pour l’utilisateur final (par exemple : utilisateur cherchant une recommandation, utilisateur ayant une recherche spécifique).\n",
    "#         Énumérez les règles de gestion : par exemple, proposer une liste de recommandations différente selon le profil ou les préférences de l'utilisateur, limiter la taille de la base de données de livres pour une performance optimale, etc.\n",
    "\n",
    "#     Formalisation des exigences d’accessibilité et d’utilisabilité :\n",
    "#         Normes d'accessibilité (WCAG, RG2AA) : veillez à ce que les fonctionnalités et l’interface répondent aux standards d’accessibilité (utilisation du clavier, contrastes adaptés).\n",
    "#         Intégrez les aspects de conception UX/UI dans le parcours utilisateur pour garantir une expérience fluide.\n",
    "\n"
   ]
  },
  {
   "cell_type": "code",
   "execution_count": null,
   "metadata": {},
   "outputs": [],
   "source": [
    "# Étape 2 : Création des spécifications fonctionnelles\n",
    "\n",
    "#     Rédaction des User Stories :\n",
    "#         Pour chaque fonctionnalité clé, écrivez une user story qui intègre les critères de validation.\n",
    "#         Exemple de User Story : \"En tant qu'utilisateur, je veux pouvoir recevoir des recommandations de livres similaires afin de découvrir des livres proches de mes goûts.\"\n",
    "#         Établissement des critères d’acceptation pour chaque User Story :\n",
    "#         Précisez des critères mesurables de succès pour chaque fonctionnalité (ex. : \"la liste de recommandations doit contenir au minimum trois titres\" ou \"le temps de réponse doit être inférieur à deux secondes\").\n"
   ]
  },
  {
   "cell_type": "code",
   "execution_count": null,
   "metadata": {},
   "outputs": [],
   "source": [
    "\n",
    "# Étape 3 : Modélisation de l’architecture fonctionnelle\n",
    "\n",
    "#     Diagramme des cas d’utilisation :\n",
    "#         Utilisez un diagramme des cas d’utilisation pour représenter visuellement les interactions principales entre les utilisateurs et les fonctions de l’application.\n",
    "#         Exemple : Représenter les interactions entre un utilisateur recherchant un livre et les différentes actions possibles comme consulter les détails, ajouter un livre en favoris, obtenir des recommandations.\n",
    "\n",
    "#     Modélisation de la structure de données :\n",
    "#         Créez un diagramme entité-relation (ERD) pour la base de données, incluant les principales entités (livre, auteur, utilisateur, etc.) et leurs relations. Utiliser Merise peut aider pour des projets de cette ampleur.\n",
    "#         Spécifiez les champs importants : pour l’entité \"Livre\" inclure titre, description, année de publication, notation moyenne, catégories.\n"
   ]
  },
  {
   "cell_type": "code",
   "execution_count": null,
   "metadata": {},
   "outputs": [],
   "source": [
    "\n",
    "# Étape 4 : Création des wireframes et parcours utilisateurs\n",
    "\n",
    "#     Élaboration des wireframes :\n",
    "#         Utilisez des outils comme Figma ou Adobe XD pour créer des wireframes représentant chaque vue principale (page d’accueil, page de recommandations, détails du livre).\n",
    "#         Intégrez les fonctionnalités d’accessibilité : contrastes élevés, options de navigation accessibles via clavier.\n",
    "\n",
    "#     Diagramme de flux utilisateur :\n",
    "#         Modélisez les parcours utilisateur dans un diagramme de flux pour illustrer les étapes (par exemple, flux de connexion, de recherche et de recommandation)."
   ]
  },
  {
   "cell_type": "code",
   "execution_count": null,
   "metadata": {},
   "outputs": [],
   "source": [
    "\n",
    "# Document à préparer\n",
    "\n",
    "# Le rapport professionnel pour cette compétence doit inclure les éléments suivants :\n",
    "\n",
    "#     Résumé des besoins fonctionnels et des cas d’utilisation.\n",
    "#     Diagrammes des cas d’utilisation et des parcours utilisateurs.\n",
    "#     Spécifications d’accessibilité (ex. : conformité WCAG).\n",
    "#     User Stories et critères d’acceptation.\n",
    "#     Modélisation des données avec un diagramme ERD (entité-relation).\n",
    "#     Wireframes pour chaque écran clé de l'application.\n",
    "\n",
    "# Chaque élément doit être clair et illustré dans le rapport."
   ]
  }
 ],
 "metadata": {
  "kernelspec": {
   "display_name": "env",
   "language": "python",
   "name": "python3"
  },
  "language_info": {
   "name": "python",
   "version": "3.11.3"
  }
 },
 "nbformat": 4,
 "nbformat_minor": 2
}
