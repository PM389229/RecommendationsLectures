{
 "cells": [
  {
   "cell_type": "code",
   "execution_count": null,
   "metadata": {},
   "outputs": [],
   "source": [
    "# C11. Monitorer un modèle d’intelligence artificielle à partir des métriques courantes et spécifiques au projet,\n",
    "# en intégrant les outils de collecte, d’alerte et de restitution des données du monitorage pour permettre\n",
    "# l’amélioration du modèle de façon itérative.\n"
   ]
  },
  {
   "cell_type": "code",
   "execution_count": null,
   "metadata": {},
   "outputs": [],
   "source": [
    "# Pour mettre en place le suivi des trois métriques sélectionnées (similarité moyenne, écart-type de similarité, \n",
    "# popularité moyenne des recommandations), voici les étapes détaillées que j'ai suivi pour leur calcul, collecte, et envoi à Prometheus."
   ]
  },
  {
   "cell_type": "code",
   "execution_count": 2,
   "metadata": {},
   "outputs": [
    {
     "name": "stdout",
     "output_type": "stream",
     "text": [
      "Requirement already satisfied: prometheus_client in c:\\users\\user\\downloads\\coursalternance\\chefoeuvre\\recommendationslectures\\env\\lib\\site-packages (0.21.0)\n",
      "Requirement already satisfied: flask in c:\\users\\user\\downloads\\coursalternance\\chefoeuvre\\recommendationslectures\\env\\lib\\site-packages (3.0.3)\n",
      "Requirement already satisfied: Werkzeug>=3.0.0 in c:\\users\\user\\downloads\\coursalternance\\chefoeuvre\\recommendationslectures\\env\\lib\\site-packages (from flask) (3.0.4)\n",
      "Requirement already satisfied: Jinja2>=3.1.2 in c:\\users\\user\\downloads\\coursalternance\\chefoeuvre\\recommendationslectures\\env\\lib\\site-packages (from flask) (3.1.4)\n",
      "Requirement already satisfied: itsdangerous>=2.1.2 in c:\\users\\user\\downloads\\coursalternance\\chefoeuvre\\recommendationslectures\\env\\lib\\site-packages (from flask) (2.2.0)\n",
      "Requirement already satisfied: click>=8.1.3 in c:\\users\\user\\downloads\\coursalternance\\chefoeuvre\\recommendationslectures\\env\\lib\\site-packages (from flask) (8.1.7)\n",
      "Requirement already satisfied: blinker>=1.6.2 in c:\\users\\user\\downloads\\coursalternance\\chefoeuvre\\recommendationslectures\\env\\lib\\site-packages (from flask) (1.8.2)\n",
      "Requirement already satisfied: colorama in c:\\users\\user\\downloads\\coursalternance\\chefoeuvre\\recommendationslectures\\env\\lib\\site-packages (from click>=8.1.3->flask) (0.4.6)\n",
      "Requirement already satisfied: MarkupSafe>=2.0 in c:\\users\\user\\downloads\\coursalternance\\chefoeuvre\\recommendationslectures\\env\\lib\\site-packages (from Jinja2>=3.1.2->flask) (2.1.5)\n",
      "Note: you may need to restart the kernel to use updated packages.\n"
     ]
    }
   ],
   "source": [
    "# 1 Biblio necessaires\n",
    "%pip install prometheus_client flask\n"
   ]
  },
  {
   "cell_type": "code",
   "execution_count": null,
   "metadata": {},
   "outputs": [],
   "source": [
    "# 2 Config de Prometheus dans app.py (API)\n",
    "\n",
    "\n",
    "# Creation du fichier prometheus.yml \n",
    "\n",
    "#                                                   lancement avec docker :\n",
    "\n",
    "# docker run -d --name=prometheus -p 9090:9090 `\n",
    "#     -v \"C:\\Users\\User\\Downloads\\CoursAlternance\\Chefoeuvre\\RecommendationsLectures\\prometheus.yml:/etc/prometheus/prometheus.yml\" `\n",
    "#     prom/prometheus\n",
    "\n",
    "\n",
    "\n",
    "#                                                 Interface Prometheus\n",
    "\n",
    "# http://localhost:9090\n",
    "\n",
    "# docker stop prometheus\n",
    "\n",
    "# et \n",
    "\n",
    "\n",
    "# docker start prometheus\n",
    "\n",
    "#PERMET D'ARRETER ET RELANCER POUR FAIRE DES MODIFS\n",
    "\n",
    "\n",
    "\n",
    "#                           Ajout des imports et configuration du client Prometheus dans  app.py \n",
    "\n",
    "# from prometheus_client import Gauge, Histogram, start_http_server\n",
    "# import numpy as np\n",
    "\n",
    "# # Démarrage du serveur Prometheus sur le port 8000\n",
    "# start_http_server(8000)\n",
    "\n",
    "# # Création des métriques Prometheus\n",
    "# similarity_mean_gauge = Gauge('recommendation_similarity_mean', 'Mean similarity score of recommendations')\n",
    "# similarity_std_gauge = Gauge('recommendation_similarity_std', 'Standard deviation of similarity scores for recommendations')\n",
    "# popularity_mean_gauge = Gauge('recommendation_popularity_mean', 'Mean popularity rating of recommended books')\n",
    "\n",
    "\n"
   ]
  },
  {
   "cell_type": "code",
   "execution_count": null,
   "metadata": {},
   "outputs": [],
   "source": [
    "# Verifier que le port 8000 est libre\n",
    "\n",
    "# netstat -aon | findstr :8000\n"
   ]
  },
  {
   "cell_type": "code",
   "execution_count": null,
   "metadata": {},
   "outputs": [],
   "source": [
    "# 3 Calcul et enregistrement des métriques dans get_recommendations\n",
    "\n",
    "# Dans la fonction get_recommendations, où les recommandations sont générées,\n",
    "# On va calculer et collecter les métriques. l'implémentation pour les trois métriques est la suivante :\n",
    "\n",
    "# @app.route('/recommendations', methods=['POST'])\n",
    "# @jwt_required()\n",
    "# def get_recommendations():\n",
    "#     user_input = request.json.get('book_title', '')\n",
    "#     if user_input:\n",
    "#         recommendations = recommander_livres_sans_categorie(user_input, data, cosine_sim_embeddings)\n",
    "        \n",
    "#         # Calcul des métriques de similarité\n",
    "#         similarity_scores = [rec['score'] for rec in recommendations]\n",
    "#         similarity_mean = np.mean(similarity_scores)\n",
    "#         similarity_std = np.std(similarity_scores)\n",
    "        \n",
    "#         # Enregistrement des métriques de similarité dans Prometheus\n",
    "#         similarity_mean_gauge.set(similarity_mean)\n",
    "#         similarity_std_gauge.set(similarity_std)\n",
    "\n",
    "#         # Calcul de la popularité moyenne des recommandations\n",
    "#         popularity_scores = [rec['average_rating'] for rec in recommendations if 'average_rating' in rec]\n",
    "#         if popularity_scores:\n",
    "#             popularity_mean = np.mean(popularity_scores)\n",
    "#             popularity_mean_gauge.set(popularity_mean)\n",
    "        \n",
    "#         return jsonify(recommendations)\n",
    "#     return jsonify({\"msg\": \"No book title provided\"}), 400\n",
    "\n",
    "\n"
   ]
  },
  {
   "cell_type": "code",
   "execution_count": null,
   "metadata": {},
   "outputs": [],
   "source": [
    "# 4 exposition des métriques à Prometheus \n",
    "\n",
    "# Dès que l’API app.py est lancée,\n",
    "# Prometheus commence à collecter les données exposées sur le port 8000. Les métriques seront visibles via cette URL :\n",
    "# http://localhost:8000/metrics\n",
    "\n"
   ]
  },
  {
   "cell_type": "code",
   "execution_count": null,
   "metadata": {},
   "outputs": [],
   "source": [
    "# 6 Ajout dans Prometheus \n",
    "\n",
    "# fichier de configuration Prometheus prometheus.yml :\n",
    "\n",
    "#------code-----\n",
    "\n",
    "# scrape_configs:\n",
    "#   - job_name: \"flask_app\"\n",
    "#     static_configs:\n",
    "#       - targets: [\"host.docker.internal:8000\"]\n",
    "\n",
    "\n",
    "#-----code------\n",
    "\n",
    "# 'localhost:8000' uniquement depuis le conteneur Prometheus ne fonctionnerait pas,\n",
    "# car localhost fait référence à Prometheus lui-même et non à notre machine hôte.\n",
    "# Avec host.docker.internal, Docker permet au conteneur d’accéder aux services sur la machine hôte.\n",
    "\n",
    "# http://localhost:9090/targets?search=&scrapePool=flask_app\n",
    "\n",
    "# target doit etre 'UP' en vert\n",
    "\n",
    "\n",
    "\n",
    "#     Exploration des métriques dans Prometheus :\n",
    "#         Dans l'interface de Prometheus (http://localhost:9090), il faut aller dans l'onglet Graph.\n",
    "#         Dans la barre de recherche de l'onglet Graph, on peut taper le nom d'une des métriques, comme recommendation_similarity_mean, et ensuite clic sur Execute.\n",
    "#         On verra les valeurs actuelles et, en choisissant l'onglet Graph dessous, on peut voir l'évolution dans le temps.\n",
    "\n",
    "#     Écrire des requêtes PromQL :\n",
    "#         Prometheus utilise le langage PromQL pour interroger et filtrer les données. Par exemple :\n",
    "#             recommendation_similarity_mean: pour afficher la dernière valeur de cette métrique.\n",
    "#             rate(recommendation_similarity_mean[1m]): pour voir le taux de changement de cette métrique sur une minute.\n",
    "\n",
    "# Ces requêtes peuvent être personnalisées pour obtenir des informations spécifiques, comme les tendances des recommandations ou les pics d'utilisation.\n",
    "\n",
    "\n",
    "# On peut également zoomer en abscisse/ordonnée pour avoir un meilleur visuel global\n"
   ]
  },
  {
   "cell_type": "code",
   "execution_count": null,
   "metadata": {},
   "outputs": [],
   "source": [
    "# On "
   ]
  },
  {
   "cell_type": "code",
   "execution_count": null,
   "metadata": {},
   "outputs": [],
   "source": [
    "# 7 Grafana , outil de monitoring \n",
    "\n",
    "# pour visualiser les métriques sous forme de graphiques de suivi en temps réel des recommandations.\n",
    "\n",
    "# --> admin ET password \n",
    "\n",
    "\n",
    "# Visualisation dans Grafana\n",
    "\n",
    "# Maintenant que Prometheus collecte les données, configurons Grafana pour visualiser ces métriques.\n",
    "\n",
    "#     Accès à Grafana :  http://localhost:3000.\n",
    "\n",
    "\n",
    "#     Pour Ajouter Prometheus comme source de données :\n",
    "\n",
    "#         Faut Aller dans Configuration > Data Sources.\n",
    "#         Ensuite Cliquer sur Add data source et sélectionnez Prometheus.\n",
    "\n",
    "#         Entrez l'URL http://prometheus:9090 pour la source de données, car Grafana et Prometheus fonctionnent sur le même réseau Docker.\n",
    "#         Cliquez sur Save & Test pour vérifier la connexion.\n",
    "\n",
    "#    Créer un Dashboard pour les métriques :\n",
    "\n",
    "#         aller dans Dashboards > New Dashboard > Add new panel.\n",
    "#         après dans le champ de requête, on entre l'une des métriques, comme recommendation_similarity_mean.\n",
    "#         Grafana va afficher automatiquement la métrique dans le graphique en temps réel.\n",
    "#         pour ajouter d'autres panels pour les différentes métriques que l'on souhaite monitorer, \n",
    "#         comme recommendation_similarity_std ou recommendation_popularity_mean par exemple\n",
    "\n",
    "#    Personnaliser le Dashboard :\n",
    "\n",
    "#         On va pouvoir mmodifier les paramètres de visualisation (type de graphique, couleurs par exemple) pour rendre le dashboard plus lisible.\n",
    "#         Et aussi ajouter des alertes pour être notifié pour certaines conditions (par exemple, si le score de similarité moyen \n",
    "#         descend en dessous d’un certain seuil).\n",
    "\n",
    "#   Exemple d'alertes dans Grafana\n",
    "\n",
    "#         Dans un panel, clic sur Edit et aller dans l’onglet Alert.\n",
    "#         Configure une alerte pour envoyer une notification si une métrique dépasse un certain seuil.\n",
    "\n",
    "#         On définit l’intervalle de vérification (par exemple, toutes les 1 minute) et la condition d’alerte \n",
    "#         (par exemple, recommendation_similarity_mean > 0.8).\n",
    "#         Ajoutez un canal de notification (par e-mail, Slack, etc.) pour recevoir les alertes."
   ]
  },
  {
   "cell_type": "code",
   "execution_count": null,
   "metadata": {},
   "outputs": [],
   "source": [
    "# Attention car si on reste sur la meme page trop longtemps sans se deconnecter/connecter et qu'on re essaye d'utiliser l'appli le token sera surement périmé ,\n",
    "# Les tokens sont configurés pour expirer apres un certain temps pour des raisons de sécurité "
   ]
  },
  {
   "cell_type": "code",
   "execution_count": null,
   "metadata": {},
   "outputs": [],
   "source": [
    "#Voir pour afficher les 3 métriques en meme temps sur Grafana"
   ]
  },
  {
   "cell_type": "markdown",
   "metadata": {},
   "source": []
  },
  {
   "cell_type": "code",
   "execution_count": null,
   "metadata": {},
   "outputs": [],
   "source": []
  }
 ],
 "metadata": {
  "kernelspec": {
   "display_name": "env",
   "language": "python",
   "name": "python3"
  },
  "language_info": {
   "codemirror_mode": {
    "name": "ipython",
    "version": 3
   },
   "file_extension": ".py",
   "mimetype": "text/x-python",
   "name": "python",
   "nbconvert_exporter": "python",
   "pygments_lexer": "ipython3",
   "version": "3.12.4"
  }
 },
 "nbformat": 4,
 "nbformat_minor": 2
}
