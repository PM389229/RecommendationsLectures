{
 "cells": [
  {
   "cell_type": "code",
   "execution_count": null,
   "metadata": {},
   "outputs": [],
   "source": [
    "\n",
    "# Il serait idéal de verifier que d'autres bibliotheques necessitant la version acutelle de python (12 ...) ne seront pas inutilisables apres passage a python 11\n",
    "# pip freeze > requirements.txt\n",
    "# Va créer/mettre a jour les dependances "
   ]
  },
  {
   "cell_type": "code",
   "execution_count": null,
   "metadata": {},
   "outputs": [],
   "source": [
    "# 2 !pip install torch pandas psycopg2\n"
   ]
  },
  {
   "cell_type": "code",
   "execution_count": null,
   "metadata": {},
   "outputs": [
    {
     "name": "stdout",
     "output_type": "stream",
     "text": [
      "Requirement already satisfied: torch in c:\\users\\user\\appdata\\local\\packages\\pythonsoftwarefoundation.python.3.11_qbz5n2kfra8p0\\localcache\\local-packages\\python311\\site-packages (2.1.0)\n",
      "Requirement already satisfied: sentence-transformers in c:\\users\\user\\appdata\\local\\packages\\pythonsoftwarefoundation.python.3.11_qbz5n2kfra8p0\\localcache\\local-packages\\python311\\site-packages (3.0.1)\n",
      "Requirement already satisfied: pandas in c:\\users\\user\\appdata\\local\\packages\\pythonsoftwarefoundation.python.3.11_qbz5n2kfra8p0\\localcache\\local-packages\\python311\\site-packages (2.1.1)\n",
      "Requirement already satisfied: scikit-learn in c:\\users\\user\\appdata\\local\\packages\\pythonsoftwarefoundation.python.3.11_qbz5n2kfra8p0\\localcache\\local-packages\\python311\\site-packages (1.3.1)\n",
      "Requirement already satisfied: filelock in c:\\users\\user\\appdata\\local\\packages\\pythonsoftwarefoundation.python.3.11_qbz5n2kfra8p0\\localcache\\local-packages\\python311\\site-packages (from torch) (3.12.4)\n",
      "Requirement already satisfied: typing-extensions in c:\\users\\user\\appdata\\local\\packages\\pythonsoftwarefoundation.python.3.11_qbz5n2kfra8p0\\localcache\\local-packages\\python311\\site-packages (from torch) (4.12.2)\n",
      "Requirement already satisfied: sympy in c:\\users\\user\\appdata\\local\\packages\\pythonsoftwarefoundation.python.3.11_qbz5n2kfra8p0\\localcache\\local-packages\\python311\\site-packages (from torch) (1.12)\n",
      "Requirement already satisfied: networkx in c:\\users\\user\\appdata\\local\\packages\\pythonsoftwarefoundation.python.3.11_qbz5n2kfra8p0\\localcache\\local-packages\\python311\\site-packages (from torch) (3.1)\n",
      "Requirement already satisfied: jinja2 in c:\\users\\user\\appdata\\local\\packages\\pythonsoftwarefoundation.python.3.11_qbz5n2kfra8p0\\localcache\\local-packages\\python311\\site-packages (from torch) (3.1.2)\n",
      "Requirement already satisfied: fsspec in c:\\users\\user\\appdata\\local\\packages\\pythonsoftwarefoundation.python.3.11_qbz5n2kfra8p0\\localcache\\local-packages\\python311\\site-packages (from torch) (2023.9.2)\n",
      "Requirement already satisfied: transformers<5.0.0,>=4.34.0 in c:\\users\\user\\appdata\\local\\packages\\pythonsoftwarefoundation.python.3.11_qbz5n2kfra8p0\\localcache\\local-packages\\python311\\site-packages (from sentence-transformers) (4.39.1)\n",
      "Requirement already satisfied: tqdm in c:\\users\\user\\appdata\\local\\packages\\pythonsoftwarefoundation.python.3.11_qbz5n2kfra8p0\\localcache\\local-packages\\python311\\site-packages (from sentence-transformers) (4.66.4)\n",
      "Requirement already satisfied: numpy in c:\\users\\user\\appdata\\local\\packages\\pythonsoftwarefoundation.python.3.11_qbz5n2kfra8p0\\localcache\\local-packages\\python311\\site-packages (from sentence-transformers) (1.26.0)\n",
      "Requirement already satisfied: scipy in c:\\users\\user\\appdata\\local\\packages\\pythonsoftwarefoundation.python.3.11_qbz5n2kfra8p0\\localcache\\local-packages\\python311\\site-packages (from sentence-transformers) (1.11.3)\n",
      "Requirement already satisfied: huggingface-hub>=0.15.1 in c:\\users\\user\\appdata\\local\\packages\\pythonsoftwarefoundation.python.3.11_qbz5n2kfra8p0\\localcache\\local-packages\\python311\\site-packages (from sentence-transformers) (0.22.1)\n",
      "Requirement already satisfied: Pillow in c:\\users\\user\\appdata\\local\\packages\\pythonsoftwarefoundation.python.3.11_qbz5n2kfra8p0\\localcache\\local-packages\\python311\\site-packages (from sentence-transformers) (10.0.1)\n",
      "Requirement already satisfied: python-dateutil>=2.8.2 in c:\\users\\user\\appdata\\local\\packages\\pythonsoftwarefoundation.python.3.11_qbz5n2kfra8p0\\localcache\\local-packages\\python311\\site-packages (from pandas) (2.8.2)\n",
      "Requirement already satisfied: pytz>=2020.1 in c:\\users\\user\\appdata\\local\\packages\\pythonsoftwarefoundation.python.3.11_qbz5n2kfra8p0\\localcache\\local-packages\\python311\\site-packages (from pandas) (2023.3.post1)\n",
      "Requirement already satisfied: tzdata>=2022.1 in c:\\users\\user\\appdata\\local\\packages\\pythonsoftwarefoundation.python.3.11_qbz5n2kfra8p0\\localcache\\local-packages\\python311\\site-packages (from pandas) (2023.3)\n",
      "Requirement already satisfied: joblib>=1.1.1 in c:\\users\\user\\appdata\\local\\packages\\pythonsoftwarefoundation.python.3.11_qbz5n2kfra8p0\\localcache\\local-packages\\python311\\site-packages (from scikit-learn) (1.3.2)\n",
      "Requirement already satisfied: threadpoolctl>=2.0.0 in c:\\users\\user\\appdata\\local\\packages\\pythonsoftwarefoundation.python.3.11_qbz5n2kfra8p0\\localcache\\local-packages\\python311\\site-packages (from scikit-learn) (3.3.0)\n",
      "Requirement already satisfied: packaging>=20.9 in c:\\users\\user\\appdata\\local\\packages\\pythonsoftwarefoundation.python.3.11_qbz5n2kfra8p0\\localcache\\local-packages\\python311\\site-packages (from huggingface-hub>=0.15.1->sentence-transformers) (23.2)\n",
      "Requirement already satisfied: pyyaml>=5.1 in c:\\users\\user\\appdata\\local\\packages\\pythonsoftwarefoundation.python.3.11_qbz5n2kfra8p0\\localcache\\local-packages\\python311\\site-packages (from huggingface-hub>=0.15.1->sentence-transformers) (6.0.1)\n",
      "Requirement already satisfied: requests in c:\\users\\user\\appdata\\local\\packages\\pythonsoftwarefoundation.python.3.11_qbz5n2kfra8p0\\localcache\\local-packages\\python311\\site-packages (from huggingface-hub>=0.15.1->sentence-transformers) (2.32.3)\n",
      "Requirement already satisfied: six>=1.5 in c:\\users\\user\\appdata\\local\\packages\\pythonsoftwarefoundation.python.3.11_qbz5n2kfra8p0\\localcache\\local-packages\\python311\\site-packages (from python-dateutil>=2.8.2->pandas) (1.16.0)\n",
      "Requirement already satisfied: colorama in c:\\users\\user\\appdata\\local\\packages\\pythonsoftwarefoundation.python.3.11_qbz5n2kfra8p0\\localcache\\local-packages\\python311\\site-packages (from tqdm->sentence-transformers) (0.4.6)\n",
      "Requirement already satisfied: regex!=2019.12.17 in c:\\users\\user\\appdata\\local\\packages\\pythonsoftwarefoundation.python.3.11_qbz5n2kfra8p0\\localcache\\local-packages\\python311\\site-packages (from transformers<5.0.0,>=4.34.0->sentence-transformers) (2023.12.25)\n",
      "Requirement already satisfied: tokenizers<0.19,>=0.14 in c:\\users\\user\\appdata\\local\\packages\\pythonsoftwarefoundation.python.3.11_qbz5n2kfra8p0\\localcache\\local-packages\\python311\\site-packages (from transformers<5.0.0,>=4.34.0->sentence-transformers) (0.15.2)\n",
      "Requirement already satisfied: safetensors>=0.4.1 in c:\\users\\user\\appdata\\local\\packages\\pythonsoftwarefoundation.python.3.11_qbz5n2kfra8p0\\localcache\\local-packages\\python311\\site-packages (from transformers<5.0.0,>=4.34.0->sentence-transformers) (0.4.2)\n",
      "Requirement already satisfied: MarkupSafe>=2.0 in c:\\users\\user\\appdata\\local\\packages\\pythonsoftwarefoundation.python.3.11_qbz5n2kfra8p0\\localcache\\local-packages\\python311\\site-packages (from jinja2->torch) (2.1.3)\n",
      "Requirement already satisfied: mpmath>=0.19 in c:\\users\\user\\appdata\\local\\packages\\pythonsoftwarefoundation.python.3.11_qbz5n2kfra8p0\\localcache\\local-packages\\python311\\site-packages (from sympy->torch) (1.3.0)\n",
      "Requirement already satisfied: charset-normalizer<4,>=2 in c:\\users\\user\\appdata\\local\\packages\\pythonsoftwarefoundation.python.3.11_qbz5n2kfra8p0\\localcache\\local-packages\\python311\\site-packages (from requests->huggingface-hub>=0.15.1->sentence-transformers) (3.3.0)\n",
      "Requirement already satisfied: idna<4,>=2.5 in c:\\users\\user\\appdata\\local\\packages\\pythonsoftwarefoundation.python.3.11_qbz5n2kfra8p0\\localcache\\local-packages\\python311\\site-packages (from requests->huggingface-hub>=0.15.1->sentence-transformers) (2.10)\n",
      "Requirement already satisfied: urllib3<3,>=1.21.1 in c:\\users\\user\\appdata\\local\\packages\\pythonsoftwarefoundation.python.3.11_qbz5n2kfra8p0\\localcache\\local-packages\\python311\\site-packages (from requests->huggingface-hub>=0.15.1->sentence-transformers) (2.0.6)\n",
      "Requirement already satisfied: certifi>=2017.4.17 in c:\\users\\user\\appdata\\local\\packages\\pythonsoftwarefoundation.python.3.11_qbz5n2kfra8p0\\localcache\\local-packages\\python311\\site-packages (from requests->huggingface-hub>=0.15.1->sentence-transformers) (2023.7.22)\n",
      "Note: you may need to restart the kernel to use updated packages.\n"
     ]
    }
   ],
   "source": [
    "# 1 Installation des bibliothèques nécessaires\n",
    "%pip install torch sentence-transformers pandas scikit-learn\n",
    "\n"
   ]
  },
  {
   "cell_type": "code",
   "execution_count": 4,
   "metadata": {},
   "outputs": [
    {
     "name": "stdout",
     "output_type": "stream",
     "text": [
      "            title                          authors  \\\n",
      "0          Gilead               Marilynne Robinson   \n",
      "1    Spider's Web  Charles Osborne;Agatha Christie   \n",
      "2    The One Tree             Stephen R. Donaldson   \n",
      "3  Rage of angels                   Sidney Sheldon   \n",
      "4  The Four Loves              Clive Staples Lewis   \n",
      "\n",
      "                                         description  published_year  \\\n",
      "0  A NOVEL THAT READERS and critics have been eag...          2004.0   \n",
      "1  A new 'Christie for Christmas' -- a full-lengt...          2000.0   \n",
      "2  Volume Two of Stephen Donaldson's acclaimed se...          1982.0   \n",
      "3  A memorable, mesmerizing heroine Jennifer -- b...          1993.0   \n",
      "4  Lewis' work on the nature of love divides love...          2002.0   \n",
      "\n",
      "   average_rating                     categories  \n",
      "0            3.85                        Fiction  \n",
      "1            3.83  Detective and mystery stories  \n",
      "2            3.97               American fiction  \n",
      "3            3.93                        Fiction  \n",
      "4            4.15                 Christian life  \n"
     ]
    }
   ],
   "source": [
    " # 2 Chargement des données du csv \n",
    "\n",
    "import pandas as pd\n",
    "data = pd.read_csv('C:\\\\Users\\\\User\\\\Downloads\\\\CoursAlternance\\\\Chefoeuvre\\\\RecommendationsLectures\\\\final_dataset_clean.csv')\n",
    "\n",
    "print(data.head())  # Vérification des données\n"
   ]
  },
  {
   "cell_type": "code",
   "execution_count": 1,
   "metadata": {},
   "outputs": [
    {
     "name": "stderr",
     "output_type": "stream",
     "text": [
      "C:\\Users\\User\\AppData\\Local\\Packages\\PythonSoftwareFoundation.Python.3.11_qbz5n2kfra8p0\\LocalCache\\local-packages\\Python311\\site-packages\\sentence_transformers\\cross_encoder\\CrossEncoder.py:11: TqdmExperimentalWarning: Using `tqdm.autonotebook.tqdm` in notebook mode. Use `tqdm.tqdm` instead to force console mode (e.g. in jupyter console)\n",
      "  from tqdm.autonotebook import tqdm, trange\n"
     ]
    },
    {
     "name": "stdout",
     "output_type": "stream",
     "text": [
      "WARNING:tensorflow:From C:\\Users\\User\\AppData\\Local\\Packages\\PythonSoftwareFoundation.Python.3.11_qbz5n2kfra8p0\\LocalCache\\local-packages\\Python311\\site-packages\\keras\\src\\losses.py:2976: The name tf.losses.sparse_softmax_cross_entropy is deprecated. Please use tf.compat.v1.losses.sparse_softmax_cross_entropy instead.\n",
      "\n"
     ]
    },
    {
     "data": {
      "text/plain": [
       "SentenceTransformer(\n",
       "  (0): Transformer({'max_seq_length': 256, 'do_lower_case': False}) with Transformer model: BertModel \n",
       "  (1): Pooling({'word_embedding_dimension': 384, 'pooling_mode_cls_token': False, 'pooling_mode_mean_tokens': True, 'pooling_mode_max_tokens': False, 'pooling_mode_mean_sqrt_len_tokens': False, 'pooling_mode_weightedmean_tokens': False, 'pooling_mode_lasttoken': False, 'include_prompt': True})\n",
       "  (2): Normalize()\n",
       ")"
      ]
     },
     "execution_count": 1,
     "metadata": {},
     "output_type": "execute_result"
    }
   ],
   "source": [
    "# 2 Charger le modèle SentenceTransformer et PyTorch\n",
    "\n",
    "import torch\n",
    "from sentence_transformers import SentenceTransformer\n",
    "\n",
    "# Charger SentenceTransformer\n",
    "model = SentenceTransformer('all-MiniLM-L6-v2')\n",
    "\n",
    "# Préparer l'utilisation de PyTorch\n",
    "device = torch.device('cuda' if torch.cuda.is_available() else 'cpu')\n",
    "model.to(device)\n"
   ]
  },
  {
   "cell_type": "code",
   "execution_count": 20,
   "metadata": {},
   "outputs": [
    {
     "name": "stdout",
     "output_type": "stream",
     "text": [
      "Tous les embeddings ont bien été générés : 6865 embeddings pour 6865 descriptions.\n"
     ]
    }
   ],
   "source": [
    "# 3 Encoder les descriptions en embeddings avec PyTorch\n",
    "\n",
    "# On augmente la taille maximale des séquences pour traiter toutes les descriptions\n",
    "model.max_seq_length = 512  # Ajuste si nécessaire pour traiter des textes longs\n",
    "\n",
    "# Encoder les descriptions en embeddings pour toutes les lignes\n",
    "embeddings = model.encode(data['description'].fillna(''), convert_to_tensor=True)\n",
    "\n",
    "# Vérifier si chaque description a bien un embedding généré\n",
    "if len(embeddings) == len(data['description']):\n",
    "    print(f\"Tous les embeddings ont bien été générés : {len(embeddings)} embeddings pour {len(data['description'])} descriptions.\")\n",
    "else:\n",
    "    print(f\"Problème : {len(embeddings)} embeddings générés pour {len(data['description'])} descriptions.\")\n",
    "\n"
   ]
  },
  {
   "cell_type": "code",
   "execution_count": 28,
   "metadata": {},
   "outputs": [
    {
     "name": "stdout",
     "output_type": "stream",
     "text": [
      "Taille des embeddings après calcul de similarité cosinus : torch.Size([6865, 6865])\n"
     ]
    }
   ],
   "source": [
    "# 4 Calculer la similarité cosinus avec PyTorch par batching (lot de 100 ici )\n",
    "\n",
    "import torch\n",
    "\n",
    "# Fonction pour calculer la similarité cosinus par lot en utilisant le produit matriciel\n",
    "def calculate_cosine_similarity_in_batches(embeddings, batch_size=100):\n",
    "    cosine_sim_list = []\n",
    "    for i in range(0, embeddings.shape[0], batch_size):\n",
    "        batch_embeddings = embeddings[i:i + batch_size]\n",
    "        # Calculer la similarité cosinus entre chaque embedding du lot avec produit matriciel\n",
    "        batch_cosine_sim = torch.mm(batch_embeddings, embeddings.T)  # Produit matriciel\n",
    "        cosine_sim_list.append(batch_cosine_sim)\n",
    "    return torch.cat(cosine_sim_list)\n",
    "\n",
    "# Calculer la similarité cosinus avec batching\n",
    "cosine_sim_embeddings = calculate_cosine_similarity_in_batches(embeddings, batch_size=100)\n",
    "\n",
    "# Vérifier la taille de la matrice de similarités cosinus\n",
    "print(f\"Taille des embeddings après calcul de similarité cosinus : {cosine_sim_embeddings.shape}\")\n",
    "\n",
    "\n"
   ]
  },
  {
   "cell_type": "code",
   "execution_count": 30,
   "metadata": {},
   "outputs": [
    {
     "name": "stdout",
     "output_type": "stream",
     "text": [
      "\n",
      "Livres similaires à 'THE NIGHTINGALE':\n",
      "\n",
      "Titre : If Only I Had Told Her\n",
      "Auteur(s) : Laura Nowlin\n",
      "Score : 0.54\n",
      "\n",
      "Titre : Full Scoop\n",
      "Auteur(s) : Janet Evanovich;Charlotte Hughes\n",
      "Score : 0.53\n",
      "\n",
      "Titre : Cat Cross Their Graves\n",
      "Auteur(s) : Shirley Rousseau Murphy\n",
      "Score : 0.51\n",
      "\n"
     ]
    }
   ],
   "source": [
    "# 5 bis Fonction de recommandation de livres sans filtrer par catégorie\n",
    "\n",
    "# Fonction de recommandation de livres sans filtrer par catégorie\n",
    "def recommander_livres_sans_categorie(titre_livre, cosine_sim=cosine_sim_embeddings):\n",
    "    # Recherche du titre du livre (insensible à la casse)\n",
    "    results = data[data['title'].str.contains(titre_livre, case=False, na=False)]\n",
    "    \n",
    "    if results.empty:\n",
    "        print(f\"Le livre '{titre_livre}' n'existe pas dans la base.\")\n",
    "        return []\n",
    "    \n",
    "    # Si plusieurs résultats correspondent, prendre le premier\n",
    "    idx = results.index[0]\n",
    "\n",
    "    # Calcul des scores de similarité pour le livre recherché\n",
    "    sim_scores = list(enumerate(cosine_sim[idx]))\n",
    "\n",
    "    # Trier les livres par similarité, du plus similaire au moins similaire\n",
    "    sim_scores = sorted(sim_scores, key=lambda x: x[1], reverse=True)\n",
    "\n",
    "    # Afficher les 3 livres les plus similaires (ignorer le premier qui est le même livre)\n",
    "    print(f\"\\nLivres similaires à '{titre_livre}':\\n\")\n",
    "    for i, score in sim_scores[1:4]:  # Ignorer le premier (le même livre)\n",
    "        livre_info = data.iloc[i]\n",
    "        print(f\"Titre : {livre_info['title']}\\nAuteur(s) : {livre_info['authors']}\\nScore : {score:.2f}\\n\")\n",
    "\n",
    "# Exemple de recommandation sans filtrer par catégorie\n",
    "recommander_livres_sans_categorie(\"THE NIGHTINGALE\")\n",
    "\n",
    "\n"
   ]
  },
  {
   "cell_type": "code",
   "execution_count": null,
   "metadata": {},
   "outputs": [],
   "source": [
    "# Le score de similarité cosinus est une mesure de similarité entre deux vecteurs. Il peut aller de :\n",
    "\n",
    "#     -1 : les deux vecteurs pointent dans des directions complètement opposées (très différents).\n",
    "#     0 : les deux vecteurs sont orthogonaux (pas de similarité).\n",
    "#     1 : les deux vecteurs pointent dans la même direction (très similaires)."
   ]
  },
  {
   "cell_type": "code",
   "execution_count": null,
   "metadata": {},
   "outputs": [],
   "source": [
    "# Les résultats sans forcer la catégorie sont memes encore meilleurs ce qui est un bon signe que le modèle de similarité cosinus basé sur \n",
    "# les descriptions trouve des correspondances pertinentes indépendamment des catégories ."
   ]
  },
  {
   "cell_type": "code",
   "execution_count": null,
   "metadata": {},
   "outputs": [],
   "source": [
    "#            La suite est pour fine-tuner le modele , on reviendra dessus plus tard pour voir si on peut obtenir de meilleurs resultats de cette maniere (GOOGLE COLLAB ?)"
   ]
  },
  {
   "cell_type": "code",
   "execution_count": 31,
   "metadata": {},
   "outputs": [
    {
     "name": "stdout",
     "output_type": "stream",
     "text": [
      "Taille des embeddings : torch.Size([6865, 6865])\n",
      "Taille des descriptions : 6865\n"
     ]
    }
   ],
   "source": [
    "print(\"Taille des embeddings :\", cosine_sim_embeddings.shape)\n",
    "print(\"Taille des descriptions :\", len(data['description']))\n"
   ]
  },
  {
   "cell_type": "code",
   "execution_count": 32,
   "metadata": {},
   "outputs": [
    {
     "ename": "KeyboardInterrupt",
     "evalue": "",
     "output_type": "error",
     "traceback": [
      "\u001b[1;31m---------------------------------------------------------------------------\u001b[0m",
      "\u001b[1;31mKeyboardInterrupt\u001b[0m                         Traceback (most recent call last)",
      "Cell \u001b[1;32mIn[32], line 10\u001b[0m\n\u001b[0;32m      8\u001b[0m description_1 \u001b[38;5;241m=\u001b[39m data[\u001b[38;5;124m'\u001b[39m\u001b[38;5;124mdescription\u001b[39m\u001b[38;5;124m'\u001b[39m]\u001b[38;5;241m.\u001b[39miloc[i]\n\u001b[0;32m      9\u001b[0m description_2 \u001b[38;5;241m=\u001b[39m data[\u001b[38;5;124m'\u001b[39m\u001b[38;5;124mdescription\u001b[39m\u001b[38;5;124m'\u001b[39m]\u001b[38;5;241m.\u001b[39miloc[j]\n\u001b[1;32m---> 10\u001b[0m label \u001b[38;5;241m=\u001b[39m \u001b[43mcosine_sim_embeddings\u001b[49m\u001b[43m[\u001b[49m\u001b[43mi\u001b[49m\u001b[43m,\u001b[49m\u001b[43m \u001b[49m\u001b[43mj\u001b[49m\u001b[43m]\u001b[49m\u001b[38;5;241;43m.\u001b[39;49m\u001b[43mitem\u001b[49m\u001b[43m(\u001b[49m\u001b[43m)\u001b[49m  \u001b[38;5;66;03m# Similarité cosinus\u001b[39;00m\n\u001b[0;32m     11\u001b[0m train_examples\u001b[38;5;241m.\u001b[39mappend(InputExample(texts\u001b[38;5;241m=\u001b[39m[description_1, description_2], label\u001b[38;5;241m=\u001b[39mlabel))\n",
      "\u001b[1;31mKeyboardInterrupt\u001b[0m: "
     ]
    }
   ],
   "source": [
    "# 1 Limiter à la plus petite taille entre les embeddings et les données\n",
    "num_embeddings = min(cosine_sim_embeddings.shape[0], len(data))\n",
    "\n",
    "# Préparer des paires d'exemples pour le fine-tuning\n",
    "train_examples = []\n",
    "for i in range(num_embeddings):\n",
    "    for j in range(i + 1, num_embeddings):\n",
    "        description_1 = data['description'].iloc[i]\n",
    "        description_2 = data['description'].iloc[j]\n",
    "        label = cosine_sim_embeddings[i, j].item()  # Similarité cosinus\n",
    "        train_examples.append(InputExample(texts=[description_1, description_2], label=label))\n"
   ]
  },
  {
   "cell_type": "code",
   "execution_count": 12,
   "metadata": {},
   "outputs": [
    {
     "ename": "NameError",
     "evalue": "name 'train_examples' is not defined",
     "output_type": "error",
     "traceback": [
      "\u001b[1;31m---------------------------------------------------------------------------\u001b[0m",
      "\u001b[1;31mNameError\u001b[0m                                 Traceback (most recent call last)",
      "Cell \u001b[1;32mIn[12], line 7\u001b[0m\n\u001b[0;32m      4\u001b[0m \u001b[38;5;28;01mfrom\u001b[39;00m \u001b[38;5;21;01msentence_transformers\u001b[39;00m \u001b[38;5;28;01mimport\u001b[39;00m losses\n\u001b[0;32m      6\u001b[0m \u001b[38;5;66;03m# Créer un DataLoader pour le fine-tuning\u001b[39;00m\n\u001b[1;32m----> 7\u001b[0m train_dataloader \u001b[38;5;241m=\u001b[39m DataLoader(\u001b[43mtrain_examples\u001b[49m, shuffle\u001b[38;5;241m=\u001b[39m\u001b[38;5;28;01mTrue\u001b[39;00m, batch_size\u001b[38;5;241m=\u001b[39m\u001b[38;5;241m16\u001b[39m)\n\u001b[0;32m      9\u001b[0m \u001b[38;5;66;03m# Définir la perte de similarité cosinus pour l'entraînement\u001b[39;00m\n\u001b[0;32m     10\u001b[0m train_loss \u001b[38;5;241m=\u001b[39m losses\u001b[38;5;241m.\u001b[39mCosineSimilarityLoss(model)\n",
      "\u001b[1;31mNameError\u001b[0m: name 'train_examples' is not defined"
     ]
    }
   ],
   "source": [
    "# 2 Préparation du Data-Loader et fine-tuning\n",
    "\n",
    "from torch.utils.data import DataLoader\n",
    "from sentence_transformers import losses\n",
    "\n",
    "# Créer un DataLoader pour le fine-tuning\n",
    "train_dataloader = DataLoader(train_examples, shuffle=True, batch_size=16)\n",
    "\n",
    "# Définir la perte de similarité cosinus pour l'entraînement\n",
    "train_loss = losses.CosineSimilarityLoss(model)\n",
    "\n",
    "# Entraîner le modèle avec PyTorch\n",
    "model.fit(\n",
    "    train_objectives=[(train_dataloader, train_loss)],\n",
    "    epochs=1,  # Augmenter le nombre d'époques pour un meilleur résultat\n",
    "    warmup_steps=100  # Ajuster pour stabiliser l'entraînement\n",
    ")\n"
   ]
  },
  {
   "cell_type": "code",
   "execution_count": null,
   "metadata": {},
   "outputs": [],
   "source": [
    "# 3: Création du DataLoader et préparation pour le fine-tuning\n",
    "\n",
    "from torch.utils.data import DataLoader\n",
    "from sentence_transformers import losses\n",
    "\n",
    "# Créer un DataLoader pour le fine-tuning\n",
    "train_dataloader = DataLoader(train_examples, shuffle=True, batch_size=16)\n",
    "\n",
    "# Définir la perte de similarité cosinus pour l'entraînement\n",
    "train_loss = losses.CosineSimilarityLoss(model)\n"
   ]
  },
  {
   "cell_type": "code",
   "execution_count": null,
   "metadata": {},
   "outputs": [],
   "source": [
    "\n",
    "\n",
    "# 4 Entraîner le modèle avec PyTorch\n",
    "model.fit(\n",
    "    train_objectives=[(train_dataloader, train_loss)],\n",
    "    epochs=1,  # Ajuster selon les besoins\n",
    "    warmup_steps=100  # Ajuster pour stabiliser l'entraînement\n",
    ")\n"
   ]
  },
  {
   "cell_type": "code",
   "execution_count": null,
   "metadata": {},
   "outputs": [],
   "source": [
    "# 5 Sauvegarder le modèle fine-tuné pour une utilisation ultérieure\n",
    "model.save('fine_tuned_sentence_transformer')\n"
   ]
  },
  {
   "cell_type": "code",
   "execution_count": null,
   "metadata": {},
   "outputs": [],
   "source": [
    "# 6 Charger le modèle fine-tuné\n",
    "model = SentenceTransformer('fine_tuned_sentence_transformer')\n",
    "\n",
    "# 7 Tester une recommandation\n",
    "recommander_livres_sans_categorie(\"THE NIGHTINGALE\")\n"
   ]
  }
 ],
 "metadata": {
  "kernelspec": {
   "display_name": "Python 3",
   "language": "python",
   "name": "python3"
  },
  "language_info": {
   "codemirror_mode": {
    "name": "ipython",
    "version": 3
   },
   "file_extension": ".py",
   "mimetype": "text/x-python",
   "name": "python",
   "nbconvert_exporter": "python",
   "pygments_lexer": "ipython3",
   "version": "3.11.9"
  }
 },
 "nbformat": 4,
 "nbformat_minor": 2
}
