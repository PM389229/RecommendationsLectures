{
 "cells": [
  {
   "cell_type": "code",
   "execution_count": null,
   "metadata": {},
   "outputs": [],
   "source": [
    "# Bloc de compétences 2 : Intégrer des modèles et des services d’intelligence artificielle\n"
   ]
  },
  {
   "cell_type": "code",
   "execution_count": null,
   "metadata": {},
   "outputs": [],
   "source": [
    "# C6. Organiser et réaliser une veille technique et réglementaire en animant le travail collectif de sélection des sources, de collecte, de traitement et de partage des\n",
    "# informations afin de formuler des recommandations pour le projet toujours en phase avec l’état de l’art.\n"
   ]
  },
  {
   "cell_type": "code",
   "execution_count": null,
   "metadata": {},
   "outputs": [],
   "source": [
    "# Cette partie doit etre a part dans un livrable de 20 pages ( et 5 pages data ?) expliquant comment je me suis organisé , comment j'ai fait mes recherches\n",
    "# A quel rythle , pourquoi j'ai choisi tel techno , telle donnée etc ..."
   ]
  },
  {
   "cell_type": "code",
   "execution_count": null,
   "metadata": {},
   "outputs": [],
   "source": [
    "# Thématique de la veille choisie ? \n",
    "\n",
    "# \n"
   ]
  },
  {
   "cell_type": "code",
   "execution_count": null,
   "metadata": {},
   "outputs": [],
   "source": [
    "# Temps de veille planifiés à l'avance ? \n",
    "\n",
    "# Mettre ca dans un agenda -- Une heure par semaine avec plusieurs sources"
   ]
  },
  {
   "cell_type": "code",
   "execution_count": null,
   "metadata": {},
   "outputs": [],
   "source": [
    "#  Le choix des outils d’agrégation est cohérent avec les sources d’informations visées et le budget disponible (flux RSS,\n",
    "# flux réseaux sociaux, agrégation\n",
    "# newsletter, etc)\n",
    "\n",
    "\n",
    "\n"
   ]
  },
  {
   "cell_type": "code",
   "execution_count": null,
   "metadata": {},
   "outputs": [],
   "source": [
    "# WORD CREE a cet effet dans le meme dossier de Bloc"
   ]
  }
 ],
 "metadata": {
  "language_info": {
   "name": "python"
  }
 },
 "nbformat": 4,
 "nbformat_minor": 2
}
