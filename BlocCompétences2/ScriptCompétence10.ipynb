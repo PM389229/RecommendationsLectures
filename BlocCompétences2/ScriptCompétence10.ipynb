{
 "cells": [
  {
   "cell_type": "code",
   "execution_count": null,
   "metadata": {},
   "outputs": [],
   "source": [
    "# C10. Intégrer l’API d’un modèle ou d’un service d’intelligence artificielle dans une application, en respectant les spécifications\n",
    "# du projet et les normes d’accessibilité en vigueur, à l’aide de la documentation technique de l’API, afin de créer les\n",
    "# fonctionnalités d’intelligence artificielle de l’application."
   ]
  },
  {
   "cell_type": "code",
   "execution_count": 1,
   "metadata": {},
   "outputs": [
    {
     "name": "stdout",
     "output_type": "stream",
     "text": [
      "Requirement already satisfied: Flask in c:\\users\\user\\downloads\\coursalternance\\chefoeuvre\\recommendationslectures\\env\\lib\\site-packages (3.0.3)\n",
      "Requirement already satisfied: requests in c:\\users\\user\\downloads\\coursalternance\\chefoeuvre\\recommendationslectures\\env\\lib\\site-packages (2.32.3)\n",
      "Requirement already satisfied: flask_jwt_extended in c:\\users\\user\\downloads\\coursalternance\\chefoeuvre\\recommendationslectures\\env\\lib\\site-packages (4.6.0)\n",
      "Collecting flask_cors\n",
      "  Downloading Flask_Cors-5.0.0-py2.py3-none-any.whl.metadata (5.5 kB)\n",
      "Requirement already satisfied: Werkzeug>=3.0.0 in c:\\users\\user\\downloads\\coursalternance\\chefoeuvre\\recommendationslectures\\env\\lib\\site-packages (from Flask) (3.0.4)\n",
      "Requirement already satisfied: Jinja2>=3.1.2 in c:\\users\\user\\downloads\\coursalternance\\chefoeuvre\\recommendationslectures\\env\\lib\\site-packages (from Flask) (3.1.4)\n",
      "Requirement already satisfied: itsdangerous>=2.1.2 in c:\\users\\user\\downloads\\coursalternance\\chefoeuvre\\recommendationslectures\\env\\lib\\site-packages (from Flask) (2.2.0)\n",
      "Requirement already satisfied: click>=8.1.3 in c:\\users\\user\\downloads\\coursalternance\\chefoeuvre\\recommendationslectures\\env\\lib\\site-packages (from Flask) (8.1.7)\n",
      "Requirement already satisfied: blinker>=1.6.2 in c:\\users\\user\\downloads\\coursalternance\\chefoeuvre\\recommendationslectures\\env\\lib\\site-packages (from Flask) (1.8.2)\n",
      "Requirement already satisfied: charset-normalizer<4,>=2 in c:\\users\\user\\downloads\\coursalternance\\chefoeuvre\\recommendationslectures\\env\\lib\\site-packages (from requests) (3.3.2)\n",
      "Requirement already satisfied: idna<4,>=2.5 in c:\\users\\user\\downloads\\coursalternance\\chefoeuvre\\recommendationslectures\\env\\lib\\site-packages (from requests) (2.10)\n",
      "Requirement already satisfied: urllib3<3,>=1.21.1 in c:\\users\\user\\downloads\\coursalternance\\chefoeuvre\\recommendationslectures\\env\\lib\\site-packages (from requests) (2.2.3)\n",
      "Requirement already satisfied: certifi>=2017.4.17 in c:\\users\\user\\downloads\\coursalternance\\chefoeuvre\\recommendationslectures\\env\\lib\\site-packages (from requests) (2024.8.30)\n",
      "Requirement already satisfied: PyJWT<3.0,>=2.0 in c:\\users\\user\\downloads\\coursalternance\\chefoeuvre\\recommendationslectures\\env\\lib\\site-packages (from flask_jwt_extended) (2.9.0)\n",
      "Requirement already satisfied: colorama in c:\\users\\user\\downloads\\coursalternance\\chefoeuvre\\recommendationslectures\\env\\lib\\site-packages (from click>=8.1.3->Flask) (0.4.6)\n",
      "Requirement already satisfied: MarkupSafe>=2.0 in c:\\users\\user\\downloads\\coursalternance\\chefoeuvre\\recommendationslectures\\env\\lib\\site-packages (from Jinja2>=3.1.2->Flask) (2.1.5)\n",
      "Downloading Flask_Cors-5.0.0-py2.py3-none-any.whl (14 kB)\n",
      "Installing collected packages: flask_cors\n",
      "Successfully installed flask_cors-5.0.0\n",
      "Note: you may need to restart the kernel to use updated packages.\n"
     ]
    }
   ],
   "source": [
    "# les dépendances dans l'environnement\n",
    "%pip install Flask requests flask_jwt_extended flask_cors\n"
   ]
  },
  {
   "cell_type": "code",
   "execution_count": null,
   "metadata": {},
   "outputs": [],
   "source": [
    "# Backend (API) et Client (Application) sont séparés : L'API sert les requêtes, le client les consomme."
   ]
  },
  {
   "cell_type": "code",
   "execution_count": null,
   "metadata": {},
   "outputs": [],
   "source": [
    "# Faire fonctionner l'application (Dans dossier RecoLecturesAPP): \n",
    "\n",
    "# D'abord python app.py dans le dossier RecommendationsLecturesAPI pour lancer l'API et les routes necessaires \n",
    "\n",
    "# Puis python RecoApp.py dans le dossier RecoLecturesAPP pour lancer l'appli\n",
    "\n",
    "# Accessible ici : http://127.0.0.1:5002"
   ]
  },
  {
   "cell_type": "code",
   "execution_count": null,
   "metadata": {},
   "outputs": [],
   "source": [
    "# Pour l'instant on ne peut se connecter qu'avec 'admin' et 'password' codé en dur dans le projet\n",
    "\n",
    "# Il faut un livre reconnu dans la bdd \n",
    "\n",
    "# The One Tree : OK\n",
    "\n",
    "# Tester un pas dans la base "
   ]
  },
  {
   "cell_type": "code",
   "execution_count": null,
   "metadata": {},
   "outputs": [],
   "source": [
    "# Ajouter des foncionnalités au fur et à mesure : comme les thumbnails pour chaque livre donné quand c'est possible ,\n",
    "# La possibilité de cliquer sur celui qui correspond le plus , qui donne un thumbnail plus grand ainsi que la description ( faire une option de clique pour les\n",
    "# 3 livres) . \n",
    "\n",
    "# POssibilité de se créer un compte dans le futur pour avoir sa liste de livres à lire etc par exemple \n",
    "\n"
   ]
  },
  {
   "cell_type": "code",
   "execution_count": null,
   "metadata": {},
   "outputs": [],
   "source": [
    "# Résumé de ce qui a été fait et le fonctionnement :\n",
    "\n",
    "#         L'application de recommandation de livres se compose de plusieurs fichiers pour gérer à la fois le backend (API Flask) et le frontend (interface utilisateur).\n",
    "\n",
    "#         RecoApp.py : Ce fichier principal contient l'application Flask, qui se connecte à l'API pour authentifier \n",
    "#         l'utilisateur et récupérer des recommandations de livres. L'utilisateur se connecte avec des identifiants par défaut pour générer un token JWT, \n",
    "#         qui est ensuite utilisé pour accéder aux fonctionnalités protégées.\n",
    "\n",
    "#     Frontend (HTML/CSS/JavaScript) :\n",
    "#         index.html : Interface utilisateur où l'utilisateur saisit ses identifiants pour se connecter et peut entrer un titre de livre \n",
    "#         pour obtenir des recommandations.\n",
    "#         styles.css : Fichier de style pour personnaliser l'interface et offrir une expérience agréable et intuitive.\n",
    "#         app.js : Code JavaScript pour gérer les interactions avec l'API et les événements de l'interface.\n",
    "#         Il envoie les requêtes d'authentification et de recommandation et affiche les résultats dans l'interface.\n",
    "\n",
    "#     Fonctionnement :\n",
    "#         Lorsqu'un utilisateur se connecte, le token JWT obtenu est stocké temporairement pour sécuriser les requêtes.\n",
    "#         Il est envoyé dans le header de chaque requête pour garantir que seules les sessions authentifiées accèdent aux points de terminaison protégés,\n",
    "#         comme /recommendations.\n",
    "#         Les requêtes de recommandation passent par le modèle de similarité de l'API, qui renvoie des suggestions de livres \n",
    "#         affichées directement dans l'interface utilisateur.\n",
    "\n",
    "# En résumé, ces fichiers permettent une interaction fluide entre l'utilisateur et l'API, en assurant une communication sécurisée \n",
    "# et un affichage intuitif des résultats\n"
   ]
  }
 ],
 "metadata": {
  "kernelspec": {
   "display_name": "env",
   "language": "python",
   "name": "python3"
  },
  "language_info": {
   "codemirror_mode": {
    "name": "ipython",
    "version": 3
   },
   "file_extension": ".py",
   "mimetype": "text/x-python",
   "name": "python",
   "nbconvert_exporter": "python",
   "pygments_lexer": "ipython3",
   "version": "3.12.4"
  }
 },
 "nbformat": 4,
 "nbformat_minor": 2
}
