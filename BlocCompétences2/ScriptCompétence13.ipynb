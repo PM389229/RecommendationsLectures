{
 "cells": [
  {
   "cell_type": "code",
   "execution_count": null,
   "metadata": {},
   "outputs": [],
   "source": [
    "# C13. Créer une chaîne de livraison continue d’un modèle d’intelligence artificielle en installant les outils\n",
    "# et en appliquant les configuration souhaitées, dans le respect du cadre imposé par le projet et dans une\n",
    "# approche MLOps*, pour automatiser les étapes de validation, de test, de packaging* et de déploiement du modèle.\n"
   ]
  },
  {
   "cell_type": "code",
   "execution_count": null,
   "metadata": {},
   "outputs": [],
   "source": [
    "# Dans cette compétence, nous allons mettre en place une chaîne de livraison continue (CI/CD) qui permettra de valider,\n",
    "# packager et déployer le système de recommandation. La chaîne CI/CD assurera l’automatisation des étapes de test des données, de calcul des embeddings, \n",
    "# de validation des similarités et du déploiement de l’API."
   ]
  },
  {
   "cell_type": "code",
   "execution_count": null,
   "metadata": {},
   "outputs": [],
   "source": [
    "#  1 Création du fichier .gitlab-ci.yml à la racine de mon projet \n",
    "\n",
    "# Le choix de Gitlab est comme PGadmin l'envie de découvrir une nouvelle technologie/plateforme si des questions sont posées à ce sujet \n",
    "\n",
    "# Une fois le fichier .gitlab-ci.yml créé et configuré, GitLab détectera automatiquement \n",
    "# les changements et exécutera le pipeline lors de chaque push vers le dépôt, en suivant les étapes définies dans le fichier\n",
    "\n"
   ]
  },
  {
   "cell_type": "code",
   "execution_count": null,
   "metadata": {},
   "outputs": [],
   "source": [
    "# 2. Création d'un Script de Test des Données : tests/test_data_qualité.py\n",
    "\n",
    "# Ce script valide la qualité des données (par exemple, en vérifiant les champs title, description et average_rating). \n",
    "\n",
    "# A compléter ? \n"
   ]
  },
  {
   "cell_type": "code",
   "execution_count": null,
   "metadata": {},
   "outputs": [],
   "source": [
    "# 3. Création d'un Script de Génération des Embeddings : scripts/generer_embeddings.py\n",
    "\n",
    "# Ce script nous permet de calculer les embeddings à partir des descriptions de livres et les sauvegarde \n",
    "# pour les étapes de validation et de déploiement."
   ]
  },
  {
   "cell_type": "code",
   "execution_count": null,
   "metadata": {},
   "outputs": [],
   "source": [
    "# 4. Script de Validation des Similarités Cosinus : tests/test_similarité.py\n",
    "\n",
    "# Ce script charge les embeddings et vérifie que la matrice de similarité cosinus est correctement calculée."
   ]
  },
  {
   "cell_type": "code",
   "execution_count": null,
   "metadata": {},
   "outputs": [],
   "source": [
    "# 5. Script de Packaging des Embeddings : scripts/package_embeddings.py\n",
    "\n",
    "# Le script va créer un fichier ZIP des embeddings pour le déploiement."
   ]
  },
  {
   "cell_type": "code",
   "execution_count": null,
   "metadata": {},
   "outputs": [],
   "source": [
    "# 6. Script de Déploiement de l’API : scripts/deploiement_api.py\n",
    "\n",
    "# Lance l’API Flask, qui utilise les embeddings pré-calculés pour les recommandations"
   ]
  },
  {
   "cell_type": "code",
   "execution_count": null,
   "metadata": {},
   "outputs": [],
   "source": [
    "# a faire pour finir la compétence\n",
    "\n",
    "# https://gitlab.com/.\n",
    "# Pousser le Projet sur GitLab :\n",
    "\n",
    "#     On doit pousser tous les fichiers vers le dépôt GitLab pour déclencher automatiquement le pipeline CI/CD.\n",
    "#     Commandes pour ajouter, commit, et push :\n",
    "\n",
    "#     bash\n",
    "\n",
    "#     git add .\n",
    "#     git commit -m \"Ajout du fichier .gitlab-ci.yml et des scripts CI/CD\"\n",
    "#     git push origin main\n",
    "\n",
    "# Surveiller l’Exécution du Pipeline sur GitLab :\n",
    "\n",
    "#     Allez dans votre projet GitLab.\n",
    "#     Sous l’onglet CI/CD > Pipelines, vérifiez que le pipeline s’exécute sans erreurs.\n",
    "#     Chaque étape (test, embeddings, validate, package, deploy) doit passer avec succès.\n",
    "\n",
    "# Vérifier le Déploiement de l’API :\n",
    "\n",
    "#     Une fois l’étape deploiement_api exécutée sans erreur, vérifiez que l’API est déployée.\n",
    "#     Si vous utilisez un serveur de test ou une machine locale pour GitLab Runner, ouvrez un navigateur et allez à http://localhost:5000 pour vérifier la route /.\n",
    "#     Vous devriez voir le message \"Bienvenue sur l'API de Recommandations de Livres\".\n",
    "\n",
    "# Documentation de la Chaîne CI/CD :\n",
    "\n",
    "#     Expliquer chaque étape du fichier .gitlab-ci.yml dans la documentation, en décrivant les scripts utilisés et leurs objectifs \n",
    "#     Décrire les déclencheurs CI/CD : Il faut mentionner que le pipeline s’exécute automatiquement lors de chaque push sur la branche main.\n",
    "#     Accessibilité : Organiser la documentation avec une structure claire, et vérifier que toutes les étapes sont bien expliquées, comme demandé dans la compétence.\n",
    "\n",
    "#  Confirmation des Résultats :\n",
    "\n",
    "#     Dans la documentation, il faut confirmer que le pipeline s'exécute correctement et que chaque étape est validée.\n",
    "#     Eventuellement des captures d'écran du pipeline CI/CD pour montrer que chaque étape a réussi."
   ]
  },
  {
   "cell_type": "code",
   "execution_count": null,
   "metadata": {},
   "outputs": [],
   "source": [
    "# https://gitlab.com/projetchefdoeuvre/Reco_Letures/-/jobs \n",
    "\n",
    "# Ou on peut voir les différents tests créés\n",
    "# Dès qu'un push est fait sur la branche les tests de la pipeline sont lancés "
   ]
  }
 ],
 "metadata": {
  "kernelspec": {
   "display_name": "env",
   "language": "python",
   "name": "python3"
  },
  "language_info": {
   "name": "python",
   "version": "3.12.4"
  }
 },
 "nbformat": 4,
 "nbformat_minor": 2
}
